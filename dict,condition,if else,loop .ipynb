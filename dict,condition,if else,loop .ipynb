{
 "cells": [
  {
   "cell_type": "code",
   "execution_count": 1,
   "id": "34edd65e-e836-48d3-8a5f-0ac0e5ff32bb",
   "metadata": {},
   "outputs": [],
   "source": [
    "d={}"
   ]
  },
  {
   "cell_type": "code",
   "execution_count": 44,
   "id": "59a3ed54-1793-4c9d-8821-78ffbec7f851",
   "metadata": {},
   "outputs": [
    {
     "data": {
      "text/plain": [
       "dict"
      ]
     },
     "execution_count": 44,
     "metadata": {},
     "output_type": "execute_result"
    }
   ],
   "source": [
    "type(d)"
   ]
  },
  {
   "cell_type": "code",
   "execution_count": 45,
   "id": "4fce5154-7702-454b-b80d-f04113638d3c",
   "metadata": {},
   "outputs": [],
   "source": [
    "d1={'key':\"shyama\"}"
   ]
  },
  {
   "cell_type": "code",
   "execution_count": 46,
   "id": "b030c591-2b20-41b4-932c-9a7712b16527",
   "metadata": {},
   "outputs": [
    {
     "data": {
      "text/plain": [
       "dict"
      ]
     },
     "execution_count": 46,
     "metadata": {},
     "output_type": "execute_result"
    }
   ],
   "source": [
    "type(d1)"
   ]
  },
  {
   "cell_type": "code",
   "execution_count": 75,
   "id": "880a5ccb-03da-417c-a75c-7f1324e3dbfd",
   "metadata": {},
   "outputs": [],
   "source": [
    "d2={123:\"shyamanga\" ,'tital' :\"thakur\" ,'number':\"789346,anexa\",}"
   ]
  },
  {
   "cell_type": "code",
   "execution_count": 76,
   "id": "26d95852-841a-45fe-9349-65b9f96c0f72",
   "metadata": {},
   "outputs": [
    {
     "data": {
      "text/plain": [
       "{123: 'shyamanga', 'tital': 'thakur', 'number': '789346,anexa'}"
      ]
     },
     "execution_count": 76,
     "metadata": {},
     "output_type": "execute_result"
    }
   ],
   "source": [
    "d2"
   ]
  },
  {
   "cell_type": "code",
   "execution_count": 69,
   "id": "3b2d7ede-16b3-456e-838c-dd52ab71da7a",
   "metadata": {},
   "outputs": [
    {
     "data": {
      "text/plain": [
       "dict"
      ]
     },
     "execution_count": 69,
     "metadata": {},
     "output_type": "execute_result"
    }
   ],
   "source": [
    "type(d2)"
   ]
  },
  {
   "cell_type": "code",
   "execution_count": 77,
   "id": "63e3bc26-b8c0-4e54-9753-474dc767ec26",
   "metadata": {},
   "outputs": [
    {
     "data": {
      "text/plain": [
       "'shyamanga'"
      ]
     },
     "execution_count": 77,
     "metadata": {},
     "output_type": "execute_result"
    }
   ],
   "source": [
    "d2[123]"
   ]
  },
  {
   "cell_type": "code",
   "execution_count": 81,
   "id": "2dc8c616-74f0-48c9-8a82-68ad676d9793",
   "metadata": {},
   "outputs": [
    {
     "data": {
      "text/plain": [
       "'789346,anexa'"
      ]
     },
     "execution_count": 81,
     "metadata": {},
     "output_type": "execute_result"
    }
   ],
   "source": [
    "d2['number']"
   ]
  },
  {
   "cell_type": "code",
   "execution_count": 82,
   "id": "fb77a7b0-bc07-4cb2-aa53-aa34acf25a49",
   "metadata": {},
   "outputs": [],
   "source": [
    "d4={'name':\"sama\",\"name\":\"takur\"}"
   ]
  },
  {
   "cell_type": "code",
   "execution_count": 83,
   "id": "4a9c959e-eb30-420d-8078-f155cb358516",
   "metadata": {},
   "outputs": [
    {
     "data": {
      "text/plain": [
       "{'name': 'takur'}"
      ]
     },
     "execution_count": 83,
     "metadata": {},
     "output_type": "execute_result"
    }
   ],
   "source": [
    "d4"
   ]
  },
  {
   "cell_type": "code",
   "execution_count": 85,
   "id": "596cce3f-60f7-46d3-acba-353c5fa42bfb",
   "metadata": {},
   "outputs": [
    {
     "data": {
      "text/plain": [
       "'takur'"
      ]
     },
     "execution_count": 85,
     "metadata": {},
     "output_type": "execute_result"
    }
   ],
   "source": [
    "d4['name']"
   ]
  },
  {
   "cell_type": "code",
   "execution_count": 90,
   "id": "75ce8e7d-0ebc-48bc-b145-be55e372e573",
   "metadata": {},
   "outputs": [],
   "source": [
    "d5={\"compny\" : 'pwskils',\"course\":[\"webdev\",\"datascn\",\"java\"]}"
   ]
  },
  {
   "cell_type": "code",
   "execution_count": 98,
   "id": "24ebb3c0-85a4-4468-a480-021dcd1610ba",
   "metadata": {},
   "outputs": [
    {
     "data": {
      "text/plain": [
       "'java'"
      ]
     },
     "execution_count": 98,
     "metadata": {},
     "output_type": "execute_result"
    }
   ],
   "source": [
    "d5[\"course\"][2]"
   ]
  },
  {
   "cell_type": "code",
   "execution_count": 100,
   "id": "c3a2f385-1507-40d5-b2e6-99547d0d661b",
   "metadata": {},
   "outputs": [
    {
     "data": {
      "text/plain": [
       "'datascn'"
      ]
     },
     "execution_count": 100,
     "metadata": {},
     "output_type": "execute_result"
    }
   ],
   "source": [
    "d5[\"course\"][1]"
   ]
  },
  {
   "cell_type": "code",
   "execution_count": 102,
   "id": "434bf3a6-c2ef-47ec-977a-d4b319127434",
   "metadata": {},
   "outputs": [],
   "source": [
    "d6={\"number\":[1,2,3,5,6,8],\"assig\":[1234]}"
   ]
  },
  {
   "cell_type": "code",
   "execution_count": 103,
   "id": "8c2d51e5-ff38-43c7-a43c-dee09ad0d017",
   "metadata": {},
   "outputs": [
    {
     "data": {
      "text/plain": [
       "{'number': [1, 2, 3, 5, 6, 8], 'assig': [1234]}"
      ]
     },
     "execution_count": 103,
     "metadata": {},
     "output_type": "execute_result"
    }
   ],
   "source": [
    "d6"
   ]
  },
  {
   "cell_type": "code",
   "execution_count": 104,
   "id": "ab0d8fe5-a6a5-4c58-82f9-ce0c7ef65ebb",
   "metadata": {},
   "outputs": [],
   "source": [
    "d6[\"mentor\"]=[\"sudansu\",\"krish\"]"
   ]
  },
  {
   "cell_type": "code",
   "execution_count": 105,
   "id": "df436f62-961a-4802-a72c-cf09ee0e20c2",
   "metadata": {},
   "outputs": [
    {
     "data": {
      "text/plain": [
       "{'number': [1, 2, 3, 5, 6, 8], 'assig': [1234], 'mentor': ['sudansu', 'krish']}"
      ]
     },
     "execution_count": 105,
     "metadata": {},
     "output_type": "execute_result"
    }
   ],
   "source": [
    "d6"
   ]
  },
  {
   "cell_type": "code",
   "execution_count": 106,
   "id": "8398e93a-cc37-45e4-8ef0-d673e4927363",
   "metadata": {},
   "outputs": [],
   "source": [
    "del d6[\"assig\"]"
   ]
  },
  {
   "cell_type": "code",
   "execution_count": 107,
   "id": "5f4e1eef-c876-4dd0-ad21-de30d23dcd58",
   "metadata": {},
   "outputs": [
    {
     "data": {
      "text/plain": [
       "{'number': [1, 2, 3, 5, 6, 8], 'mentor': ['sudansu', 'krish']}"
      ]
     },
     "execution_count": 107,
     "metadata": {},
     "output_type": "execute_result"
    }
   ],
   "source": [
    "d6"
   ]
  },
  {
   "cell_type": "code",
   "execution_count": 111,
   "id": "d8524745-68db-4783-ab97-0a46fbd7c4e6",
   "metadata": {},
   "outputs": [
    {
     "data": {
      "text/plain": [
       "[[1, 2, 3, 5, 6, 8], ['sudansu', 'krish']]"
      ]
     },
     "execution_count": 111,
     "metadata": {},
     "output_type": "execute_result"
    }
   ],
   "source": [
    "list (d6.values())"
   ]
  },
  {
   "cell_type": "code",
   "execution_count": 7,
   "id": "022d621a-8233-41d3-845c-751c648a0016",
   "metadata": {},
   "outputs": [
    {
     "name": "stdin",
     "output_type": "stream",
     "text": [
      "enter your marks 90\n"
     ]
    },
    {
     "name": "stdout",
     "output_type": "stream",
     "text": [
      "you will be a part of A0 batch\n"
     ]
    }
   ],
   "source": [
    "marks=int(input(\"enter your marks\"))\n",
    "if marks >=80 :\n",
    "    print(\"you will be a part of A0 batch\")\n",
    "elif marks>=60 and marks<80:\n",
    "    print(\"you will bwe a part of A1 batch\")\n",
    "elif marks >=40 and marks<60:\n",
    "    print(\"you will be a part of A2batch\")\n",
    "else :\n",
    "    print(\"you will be a part of A3 batch\")\n",
    "    "
   ]
  },
  {
   "cell_type": "code",
   "execution_count": 123,
   "id": "5260aa63-dde3-46fc-8969-ebbb5562e3ea",
   "metadata": {},
   "outputs": [
    {
     "data": {
      "text/plain": [
       "False"
      ]
     },
     "execution_count": 123,
     "metadata": {},
     "output_type": "execute_result"
    }
   ],
   "source": [
    "10>=80"
   ]
  },
  {
   "cell_type": "code",
   "execution_count": 2,
   "id": "e5d7dfbf-d993-4db2-bf4a-4fb3ba6ebb8e",
   "metadata": {},
   "outputs": [
    {
     "name": "stdin",
     "output_type": "stream",
     "text": [
      "enter your marks 60\n"
     ]
    }
   ],
   "source": [
    "marks=input(\"enter your marks\")"
   ]
  },
  {
   "cell_type": "code",
   "execution_count": 3,
   "id": "993c2e2b-6944-4ea7-9cd7-4a90dbda4e4c",
   "metadata": {},
   "outputs": [
    {
     "data": {
      "text/plain": [
       "'60'"
      ]
     },
     "execution_count": 3,
     "metadata": {},
     "output_type": "execute_result"
    }
   ],
   "source": [
    "marks\n"
   ]
  },
  {
   "cell_type": "code",
   "execution_count": 14,
   "id": "8c8e1e0f-baf4-4e14-8544-bd6a9db1b397",
   "metadata": {},
   "outputs": [
    {
     "name": "stdin",
     "output_type": "stream",
     "text": [
      "enter the price 5000\n"
     ]
    },
    {
     "name": "stdout",
     "output_type": "stream",
     "text": [
      "i will not purchase\n"
     ]
    }
   ],
   "source": [
    "price=int(input(\"enter the price\"))\n",
    "if price >1000:\n",
    "          print(\"i will not purchase\")\n",
    "else :\n",
    "    print(\"i will purchase\")"
   ]
  },
  {
   "cell_type": "code",
   "execution_count": 25,
   "id": "a8d659db-1110-4942-8de9-690f23d1ac95",
   "metadata": {},
   "outputs": [],
   "source": [
    "i =[1,2,3,4,5,6,7,8,9]"
   ]
  },
  {
   "cell_type": "code",
   "execution_count": 22,
   "id": "dae373f9-8f7d-4159-948b-d44599a4e800",
   "metadata": {},
   "outputs": [
    {
     "data": {
      "text/plain": [
       "list"
      ]
     },
     "execution_count": 22,
     "metadata": {},
     "output_type": "execute_result"
    }
   ],
   "source": [
    "type(i)"
   ]
  },
  {
   "cell_type": "code",
   "execution_count": 32,
   "id": "2e4f17a4-acea-47b6-ab75-333a05497690",
   "metadata": {},
   "outputs": [
    {
     "data": {
      "text/plain": [
       "1"
      ]
     },
     "execution_count": 32,
     "metadata": {},
     "output_type": "execute_result"
    }
   ],
   "source": [
    "i[0]\n"
   ]
  },
  {
   "cell_type": "code",
   "execution_count": 34,
   "id": "4ed7635d-c149-439c-b3cd-03ab7911d33f",
   "metadata": {},
   "outputs": [
    {
     "data": {
      "text/plain": [
       "2"
      ]
     },
     "execution_count": 34,
     "metadata": {},
     "output_type": "execute_result"
    }
   ],
   "source": [
    "i[0]+1"
   ]
  },
  {
   "cell_type": "code",
   "execution_count": 36,
   "id": "1fb4cf63-30e7-42fe-ad9f-cc13e4abfd1a",
   "metadata": {},
   "outputs": [],
   "source": [
    "ii.append(i[0]+1)"
   ]
  },
  {
   "cell_type": "code",
   "execution_count": 35,
   "id": "e79b5531-9937-496e-a9ae-e925bae4051b",
   "metadata": {},
   "outputs": [],
   "source": [
    "ii=[]"
   ]
  },
  {
   "cell_type": "code",
   "execution_count": 37,
   "id": "dde44f90-d15e-4fc4-851a-2f50ef76389b",
   "metadata": {},
   "outputs": [
    {
     "data": {
      "text/plain": [
       "[2]"
      ]
     },
     "execution_count": 37,
     "metadata": {},
     "output_type": "execute_result"
    }
   ],
   "source": [
    "ii"
   ]
  },
  {
   "cell_type": "code",
   "execution_count": 42,
   "id": "19c9d5fa-0ba6-4854-90ac-4fb02a08ceba",
   "metadata": {},
   "outputs": [
    {
     "data": {
      "text/plain": [
       "[1, 2, 3, 4, 5, 6, 7, 8, 9]"
      ]
     },
     "execution_count": 42,
     "metadata": {},
     "output_type": "execute_result"
    }
   ],
   "source": [
    "i"
   ]
  },
  {
   "cell_type": "code",
   "execution_count": 50,
   "id": "14b553f6-1ad5-41a2-90e7-78f337c3e682",
   "metadata": {},
   "outputs": [
    {
     "name": "stdout",
     "output_type": "stream",
     "text": [
      "2\n",
      "3\n",
      "4\n",
      "5\n",
      "6\n",
      "7\n",
      "8\n",
      "9\n",
      "10\n"
     ]
    },
    {
     "data": {
      "text/plain": [
       "[2, 2, 3, 4, 5, 6, 7, 8, 9, 10]"
      ]
     },
     "execution_count": 50,
     "metadata": {},
     "output_type": "execute_result"
    }
   ],
   "source": [
    "for j in i:\n",
    "    print(j+1)\n",
    "    ii.append(j+1)\n",
    "ii"
   ]
  },
  {
   "cell_type": "code",
   "execution_count": 51,
   "id": "8e0f5e0c-ea73-48cb-9ff3-506dcb01c9d9",
   "metadata": {},
   "outputs": [
    {
     "data": {
      "text/plain": [
       "[2, 2, 3, 4, 5, 6, 7, 8, 9, 10]"
      ]
     },
     "execution_count": 51,
     "metadata": {},
     "output_type": "execute_result"
    }
   ],
   "source": [
    "ii"
   ]
  },
  {
   "cell_type": "code",
   "execution_count": 52,
   "id": "acc1d9da-7ad5-462d-9b4d-594a75494f9f",
   "metadata": {},
   "outputs": [],
   "source": [
    "l =['sudha','pwskil','course']"
   ]
  },
  {
   "cell_type": "code",
   "execution_count": 53,
   "id": "90669ff9-9ecc-4ba9-8258-66d1d101857c",
   "metadata": {},
   "outputs": [
    {
     "data": {
      "text/plain": [
       "['sudha', 'pwskil', 'course']"
      ]
     },
     "execution_count": 53,
     "metadata": {},
     "output_type": "execute_result"
    }
   ],
   "source": [
    "l"
   ]
  },
  {
   "cell_type": "code",
   "execution_count": 55,
   "id": "0a9bf02a-539c-4af5-98a3-2d2f328bb532",
   "metadata": {},
   "outputs": [
    {
     "name": "stdout",
     "output_type": "stream",
     "text": [
      "sudha\n",
      "pwskil\n",
      "course\n"
     ]
    }
   ],
   "source": [
    "ll =[]\n",
    "for k in l :\n",
    "    print(k)\n",
    "    ll.append(k.upper())"
   ]
  },
  {
   "cell_type": "code",
   "execution_count": 56,
   "id": "3ca8d753-1215-452b-afda-901d725a3257",
   "metadata": {},
   "outputs": [
    {
     "data": {
      "text/plain": [
       "['SUDHA', 'PWSKIL', 'COURSE']"
      ]
     },
     "execution_count": 56,
     "metadata": {},
     "output_type": "execute_result"
    }
   ],
   "source": [
    "ll"
   ]
  },
  {
   "cell_type": "code",
   "execution_count": 72,
   "id": "e0fd3785-d266-46b5-90ab-389c31c9d498",
   "metadata": {},
   "outputs": [],
   "source": [
    "m=['skill','hoho',1,2,4,5,6,'avg',2345,567]"
   ]
  },
  {
   "cell_type": "code",
   "execution_count": 77,
   "id": "215cb752-620f-453f-9dfd-e7994a2a96f4",
   "metadata": {},
   "outputs": [],
   "source": [
    "l1_num=[]\n",
    "l2_str=[]\n",
    "for i in m:\n",
    "    if type(i)== int or type(i)== float:\n",
    "        l1_num.append(i)\n",
    "    else :\n",
    "        l2_str.append(i)"
   ]
  },
  {
   "cell_type": "code",
   "execution_count": 78,
   "id": "9571ce46-bca5-42a3-8d1c-fe9a6f6616a7",
   "metadata": {},
   "outputs": [
    {
     "data": {
      "text/plain": [
       "[1, 2, 4, 5, 6, 2345, 567]"
      ]
     },
     "execution_count": 78,
     "metadata": {},
     "output_type": "execute_result"
    }
   ],
   "source": [
    "l1_num\n"
   ]
  },
  {
   "cell_type": "code",
   "execution_count": 80,
   "id": "18619a60-b8b5-42fe-9767-098bed7d3a7b",
   "metadata": {},
   "outputs": [
    {
     "data": {
      "text/plain": [
       "['skill', 'hoho', 'avg']"
      ]
     },
     "execution_count": 80,
     "metadata": {},
     "output_type": "execute_result"
    }
   ],
   "source": [
    "l2_str"
   ]
  },
  {
   "cell_type": "code",
   "execution_count": null,
   "id": "c2af17a2-087a-4da0-bb4d-ed3e216ebaa1",
   "metadata": {},
   "outputs": [],
   "source": []
  },
  {
   "cell_type": "code",
   "execution_count": null,
   "id": "75360ae7-52d8-4157-a45f-60c369bcec0b",
   "metadata": {},
   "outputs": [],
   "source": []
  }
 ],
 "metadata": {
  "kernelspec": {
   "display_name": "Python 3 (ipykernel)",
   "language": "python",
   "name": "python3"
  },
  "language_info": {
   "codemirror_mode": {
    "name": "ipython",
    "version": 3
   },
   "file_extension": ".py",
   "mimetype": "text/x-python",
   "name": "python",
   "nbconvert_exporter": "python",
   "pygments_lexer": "ipython3",
   "version": "3.10.8"
  }
 },
 "nbformat": 4,
 "nbformat_minor": 5
}
